{
 "cells": [
  {
   "cell_type": "code",
   "execution_count": 1,
   "metadata": {
    "collapsed": false,
    "deletable": true,
    "editable": true
   },
   "outputs": [],
   "source": [
    "%%capture\n",
    "\n",
    "# Change some display properties\n",
    "from IPython.core.display import display, HTML\n",
    "display(HTML(\"<style>.container { width:75% !important; }</style>\"))\n",
    "\n",
    "# Important header information\n",
    "naluhelperdir = '../../utilities'\n",
    "# Import libraries\n",
    "import sys\n",
    "import numpy as np\n",
    "import matplotlib.pyplot as plt\n",
    "sys.path.insert(1, naluhelperdir)\n",
    "import postproamrwind\n",
    "%matplotlib inline"
   ]
  },
  {
   "cell_type": "code",
   "execution_count": 2,
   "metadata": {
    "collapsed": false,
    "deletable": true,
    "editable": true
   },
   "outputs": [
    {
     "name": "stdout",
     "output_type": "stream",
     "text": [
      "Loading u\n",
      "Loading v\n",
      "Loading w\n",
      "Loading theta\n",
      "Loading u'u'_r\n",
      "Loading u'v'_r\n",
      "Loading u'w'_r\n",
      "Loading v'v'_r\n",
      "Loading v'w'_r\n",
      "Loading w'w'_r\n"
     ]
    }
   ],
   "source": [
    "# Load the data\n",
    "filename='post_processing/abl_statistics00000.nc'\n",
    "avgtimes=[15000,20000]\n",
    "ablstats=postproamrwind.loadData(filename,avgt=avgtimes)"
   ]
  },
  {
   "cell_type": "code",
   "execution_count": 3,
   "metadata": {
    "collapsed": false,
    "deletable": true,
    "editable": true
   },
   "outputs": [],
   "source": [
    "#print(postproamrwind.stdvars)\n",
    "# Save the data into text files\n",
    "postproamrwind.saveAsText(ablstats, ['u','v','w'], 'amrwind_velocity.dat', header='z, u, v, w')\n",
    "postproamrwind.saveAsText(ablstats, ['theta'],     'amrwind_temperature.dat', header='z, T')\n",
    "postproamrwind.saveAsText(ablstats, [u\"u'u'_r\", u\"u'v'_r\", u\"u'w'_r\", u\"v'v'_r\", u\"v'w'_r\", u\"w'w'_r\"],     \n",
    "                        'amrwind_reynoldsstresses.dat', header='z, uu, uv, uw, vv, vw, ww')"
   ]
  },
  {
   "cell_type": "code",
   "execution_count": null,
   "metadata": {
    "collapsed": true,
    "deletable": true,
    "editable": true
   },
   "outputs": [],
   "source": []
  }
 ],
 "metadata": {
  "kernelspec": {
   "display_name": "Python 2",
   "language": "python",
   "name": "python2"
  },
  "language_info": {
   "codemirror_mode": {
    "name": "ipython",
    "version": 2
   },
   "file_extension": ".py",
   "mimetype": "text/x-python",
   "name": "python",
   "nbconvert_exporter": "python",
   "pygments_lexer": "ipython2",
   "version": "2.7.13"
  }
 },
 "nbformat": 4,
 "nbformat_minor": 2
}
